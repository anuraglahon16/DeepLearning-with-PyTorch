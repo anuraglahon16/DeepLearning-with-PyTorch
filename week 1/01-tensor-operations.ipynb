{
 "cells": [
  {
   "cell_type": "markdown",
   "metadata": {},
   "source": [
    "# 5 Statistical Function in PyTorch\n",
    "\n",
    "### Subtitle Here\n",
    "\n",
    "An short introduction about PyTorch and about the chosen functions. \n",
    "- torch.bernoulli()\n",
    "- torch.poisson()\n",
    "- torch.normal()\n",
    "- torch.normal_()\n",
    "- torch.norm()"
   ]
  },
  {
   "cell_type": "code",
   "execution_count": 1,
   "metadata": {},
   "outputs": [],
   "source": [
    "# Import torch and other required modules\n",
    "import torch"
   ]
  },
  {
   "cell_type": "markdown",
   "metadata": {},
   "source": [
    "## Function 1 - torch.bernoulli(input, *, generator=None, out=None)\n",
    "\n",
    "It draws  binary random numbers (0 or 1) from a Bernoulli distribution.\n",
    "\n",
    "Parameters : \n",
    "\n",
    "input (Tensor) – the input tensor of probability values for the Bernoulli distribution\n",
    "\n",
    "generator (torch.Generator, optional) – a pseudorandom number generator for sampling\n",
    "\n",
    "out (Tensor, optional) – out tensor only has values 0 or 1 and is of the same shape as input."
   ]
  },
  {
   "cell_type": "code",
   "execution_count": 2,
   "metadata": {},
   "outputs": [],
   "source": [
    "# Example 1 - # generate a  matrix \n",
    "a=torch.tensor([[0.33,0.55,0.99],[0.09,0.78,0.89],[0.29,0.19,0.39]])"
   ]
  },
  {
   "cell_type": "code",
   "execution_count": 3,
   "metadata": {},
   "outputs": [
    {
     "data": {
      "text/plain": [
       "tensor([[0., 1., 1.],\n",
       "        [0., 0., 1.],\n",
       "        [1., 0., 0.]])"
      ]
     },
     "execution_count": 3,
     "metadata": {},
     "output_type": "execute_result"
    }
   ],
   "source": [
    "#Draws a binary random nuber(0 or 1)\n",
    "torch.bernoulli(a)"
   ]
  },
  {
   "cell_type": "markdown",
   "metadata": {},
   "source": [
    "All one's in the matrix"
   ]
  },
  {
   "cell_type": "code",
   "execution_count": 4,
   "metadata": {},
   "outputs": [
    {
     "data": {
      "text/plain": [
       "tensor([[1., 1., 1., 1., 1.],\n",
       "        [1., 1., 1., 1., 1.],\n",
       "        [1., 1., 1., 1., 1.],\n",
       "        [1., 1., 1., 1., 1.],\n",
       "        [1., 1., 1., 1., 1.]])"
      ]
     },
     "execution_count": 4,
     "metadata": {},
     "output_type": "execute_result"
    }
   ],
   "source": [
    "# Example 2 - Here all are one's in the matrix\n",
    "b = torch.ones(5, 5) # probability of drawing \"1\" is 1\n",
    "b"
   ]
  },
  {
   "cell_type": "code",
   "execution_count": 5,
   "metadata": {},
   "outputs": [
    {
     "data": {
      "text/plain": [
       "tensor([[1., 1., 1., 1., 1.],\n",
       "        [1., 1., 1., 1., 1.],\n",
       "        [1., 1., 1., 1., 1.],\n",
       "        [1., 1., 1., 1., 1.],\n",
       "        [1., 1., 1., 1., 1.]])"
      ]
     },
     "execution_count": 5,
     "metadata": {},
     "output_type": "execute_result"
    }
   ],
   "source": [
    "#draw a binary number\n",
    "torch.bernoulli(b)"
   ]
  },
  {
   "cell_type": "markdown",
   "metadata": {},
   "source": [
    "All zero's in the matrix"
   ]
  },
  {
   "cell_type": "code",
   "execution_count": 6,
   "metadata": {},
   "outputs": [
    {
     "data": {
      "text/plain": [
       "tensor([[0., 0., 0.],\n",
       "        [0., 0., 0.],\n",
       "        [0., 0., 0.]])"
      ]
     },
     "execution_count": 6,
     "metadata": {},
     "output_type": "execute_result"
    }
   ],
   "source": [
    "# Example 3 - \n",
    "c = torch.zeros(3, 3) # probability of drawing \"1\" is 0\n",
    "c"
   ]
  },
  {
   "cell_type": "code",
   "execution_count": 7,
   "metadata": {},
   "outputs": [
    {
     "data": {
      "text/plain": [
       "tensor([[0., 0., 0.],\n",
       "        [0., 0., 0.],\n",
       "        [0., 0., 0.]])"
      ]
     },
     "execution_count": 7,
     "metadata": {},
     "output_type": "execute_result"
    }
   ],
   "source": [
    "#draw a binary number\n",
    "torch.bernoulli(c)"
   ]
  },
  {
   "cell_type": "markdown",
   "metadata": {},
   "source": [
    "These are 3 types of example of torch.bernoulli() function"
   ]
  },
  {
   "cell_type": "markdown",
   "metadata": {},
   "source": [
    "Bernoulli Distribution is a random experiment that has only two outcomes (usually called a “Success” or a “Failure”).\n",
    "It is best used when we have two outcomes of a given event."
   ]
  },
  {
   "cell_type": "markdown",
   "metadata": {},
   "source": [
    "## Function 2 - torch.poisson(input *, generator=None)\n",
    "\n",
    "It returns a tensor sampled from a Poisson distribution.\n",
    "\n",
    "Parameters:\n",
    "\n",
    "input (Tensor) – the input tensor containing the rates of the Poisson distribution\n",
    "\n",
    "generator (torch.Generator, optional) – a pseudorandom number generator for sampling"
   ]
  },
  {
   "cell_type": "code",
   "execution_count": 8,
   "metadata": {},
   "outputs": [
    {
     "data": {
      "text/plain": [
       "tensor([[4.5053, 0.6705, 1.3652],\n",
       "        [2.0156, 0.6569, 1.2713],\n",
       "        [0.1988, 2.6673, 0.5343]])"
      ]
     },
     "execution_count": 8,
     "metadata": {},
     "output_type": "execute_result"
    }
   ],
   "source": [
    "# Example 1 - working\n",
    "rates = torch.rand(3, 3) * 6  # rate parameter between 0 and 6 with 3 row and 3 col \n",
    "rates"
   ]
  },
  {
   "cell_type": "code",
   "execution_count": 9,
   "metadata": {},
   "outputs": [
    {
     "data": {
      "text/plain": [
       "tensor([[4., 0., 2.],\n",
       "        [2., 1., 2.],\n",
       "        [0., 1., 0.]])"
      ]
     },
     "execution_count": 9,
     "metadata": {},
     "output_type": "execute_result"
    }
   ],
   "source": [
    "torch.poisson(rates)"
   ]
  },
  {
   "cell_type": "markdown",
   "metadata": {},
   "source": [
    "A input tensor contain rate parameter between 0 and 6 with 3 rows and 3 columns, returns a output from a poission distribution"
   ]
  },
  {
   "cell_type": "code",
   "execution_count": 10,
   "metadata": {},
   "outputs": [
    {
     "data": {
      "text/plain": [
       "tensor([[ 3.,  3.,  5.,  4.],\n",
       "        [ 0.,  4.,  0.,  2.],\n",
       "        [ 1., 12.,  2.,  3.],\n",
       "        [ 3.,  3.,  1.,  2.],\n",
       "        [ 2.,  4.,  5.,  0.]])"
      ]
     },
     "execution_count": 10,
     "metadata": {},
     "output_type": "execute_result"
    }
   ],
   "source": [
    "# Example 2 - working\n",
    "rates = torch.rand(5, 4) * 7  # rate parameter between 0 and 7 with 5 row and 4 col \n",
    "torch.poisson(rates)"
   ]
  },
  {
   "cell_type": "markdown",
   "metadata": {},
   "source": [
    "A input tensor contain rate parameter between 0 and 7 with 5 rows and 4 columns, returns a output from a poission distribution"
   ]
  },
  {
   "cell_type": "code",
   "execution_count": null,
   "metadata": {},
   "outputs": [],
   "source": []
  },
  {
   "cell_type": "code",
   "execution_count": null,
   "metadata": {},
   "outputs": [],
   "source": []
  },
  {
   "cell_type": "markdown",
   "metadata": {},
   "source": []
  },
  {
   "cell_type": "markdown",
   "metadata": {},
   "source": [
    "The Poisson distribution is popular for modeling the number of times an event occurs in an interval of time or space."
   ]
  },
  {
   "cell_type": "markdown",
   "metadata": {},
   "source": [
    "## Function 3 -  torch.normal(mean, std, *, generator=None, out=None) \n",
    "\n",
    "It returns a tensor of random numbers drawn from separate normal distributions whose mean and standard deviation are given.\n",
    "\n",
    "The mean is a tensor with the mean of each output element’s normal distribution\n",
    "\n",
    "The std is a tensor with the standard deviation of each output element’s normal distribution\n",
    "\n",
    "Parameters :\n",
    "\n",
    "    mean (Tensor) – the tensor of per-element means\n",
    "\n",
    "    std (Tensor) – the tensor of per-element standard deviations\n",
    "\n",
    "    generator (torch.Generator, optional) – a pseudorandom number generator for sampling\n",
    "\n",
    "    out (Tensor, optional) – the output tensor."
   ]
  },
  {
   "cell_type": "code",
   "execution_count": 11,
   "metadata": {},
   "outputs": [
    {
     "data": {
      "text/plain": [
       "tensor([-0.2498,  2.1719,  3.9367,  4.8688,  4.4199,  5.9211,  6.8950,  7.9340,\n",
       "         9.2289, 10.0201])"
      ]
     },
     "execution_count": 11,
     "metadata": {},
     "output_type": "execute_result"
    }
   ],
   "source": [
    "# Example 1 - working\n",
    "torch.normal(mean=torch.arange(1., 11.), std=torch.arange(1, 0, -0.1)) "
   ]
  },
  {
   "cell_type": "markdown",
   "metadata": {},
   "source": [
    "It returns a tensor of random numbers drawn from separate normal distributions."
   ]
  },
  {
   "cell_type": "code",
   "execution_count": 12,
   "metadata": {},
   "outputs": [
    {
     "data": {
      "text/plain": [
       "tensor([3.6471, 3.4960, 5.0196, 6.5287, 8.3559, 7.7088])"
      ]
     },
     "execution_count": 12,
     "metadata": {},
     "output_type": "execute_result"
    }
   ],
   "source": [
    "# Example 2 - torch.normal(mean, std=1.0, out=None) → Tensor\n",
    "#Similar to the function above, but the standard-deviations are shared among all drawn elements.\n",
    "\n",
    "#Parameters\n",
    "#mean (Tensor) – the tensor of per-element means\n",
    "\n",
    "#std (float, optional) – the standard deviation for all distributions\n",
    "\n",
    "#out (Tensor, optional) – the output tensor\n",
    "torch.normal(mean=torch.arange(3., 9.))"
   ]
  },
  {
   "cell_type": "markdown",
   "metadata": {},
   "source": [
    "It returns a tensor of random numbers drawn from separate normal distributions whose  standard deviation is 1"
   ]
  },
  {
   "cell_type": "code",
   "execution_count": 13,
   "metadata": {},
   "outputs": [
    {
     "ename": "TypeError",
     "evalue": "normal() received an invalid combination of arguments - got (std=int, mean=int, ), but expected one of:\n * (Tensor mean, Tensor std, *, torch.Generator generator, Tensor out)\n * (Tensor mean, float std, *, torch.Generator generator, Tensor out)\n * (float mean, Tensor std, *, torch.Generator generator, Tensor out)\n * (float mean, float std, tuple of ints size, *, torch.Generator generator, Tensor out, torch.dtype dtype, torch.layout layout, torch.device device, bool pin_memory, bool requires_grad)\n",
     "output_type": "error",
     "traceback": [
      "\u001b[0;31m---------------------------------------------------------------------------\u001b[0m",
      "\u001b[0;31mTypeError\u001b[0m                                 Traceback (most recent call last)",
      "\u001b[0;32m<ipython-input-13-2e103bc9b2a8>\u001b[0m in \u001b[0;36m<module>\u001b[0;34m\u001b[0m\n\u001b[1;32m      1\u001b[0m \u001b[0;31m# Example 3 - breaking (to illustrate when it breaks)\u001b[0m\u001b[0;34m\u001b[0m\u001b[0;34m\u001b[0m\u001b[0;34m\u001b[0m\u001b[0m\n\u001b[0;32m----> 2\u001b[0;31m \u001b[0mtorch\u001b[0m\u001b[0;34m.\u001b[0m\u001b[0mnormal\u001b[0m\u001b[0;34m(\u001b[0m\u001b[0mmean\u001b[0m\u001b[0;34m=\u001b[0m\u001b[0;36m0\u001b[0m\u001b[0;34m,\u001b[0m\u001b[0mstd\u001b[0m\u001b[0;34m=\u001b[0m\u001b[0;36m1\u001b[0m\u001b[0;34m)\u001b[0m\u001b[0;34m\u001b[0m\u001b[0;34m\u001b[0m\u001b[0m\n\u001b[0m",
      "\u001b[0;31mTypeError\u001b[0m: normal() received an invalid combination of arguments - got (std=int, mean=int, ), but expected one of:\n * (Tensor mean, Tensor std, *, torch.Generator generator, Tensor out)\n * (Tensor mean, float std, *, torch.Generator generator, Tensor out)\n * (float mean, Tensor std, *, torch.Generator generator, Tensor out)\n * (float mean, float std, tuple of ints size, *, torch.Generator generator, Tensor out, torch.dtype dtype, torch.layout layout, torch.device device, bool pin_memory, bool requires_grad)\n"
     ]
    }
   ],
   "source": [
    "# Example 3 - breaking (to illustrate when it breaks)\n",
    "torch.normal(mean=0,std=1)"
   ]
  },
  {
   "cell_type": "markdown",
   "metadata": {},
   "source": [
    "It does not work when mean is 0 and std is 1."
   ]
  },
  {
   "cell_type": "markdown",
   "metadata": {},
   "source": [
    "The normal distribution is a probability function that describes how the values of a variable are distributed"
   ]
  },
  {
   "cell_type": "markdown",
   "metadata": {},
   "source": [
    "## Function 4 - normal_(mean=0, std=1, *, generator=None)\n",
    "\n",
    "    In-place version of torch.normal()\n",
    "\n",
    "    Fills self tensor with elements samples from the normal distribution parameterized by mean and std."
   ]
  },
  {
   "cell_type": "code",
   "execution_count": 26,
   "metadata": {},
   "outputs": [
    {
     "data": {
      "text/plain": [
       "tensor([[ 0.3218, -1.7837,  0.6526,  1.1876,  0.1105],\n",
       "        [-1.8146, -0.8037, -0.0237, -1.4988,  0.0792],\n",
       "        [ 1.1578, -1.7692,  0.2090,  0.7709,  0.1636],\n",
       "        [ 1.2487,  0.0983, -0.5294,  1.0083,  0.0701],\n",
       "        [-1.0426,  1.2381,  2.3188,  1.2568,  1.4765]])"
      ]
     },
     "execution_count": 26,
     "metadata": {},
     "output_type": "execute_result"
    }
   ],
   "source": [
    "# Example 1 - working\n",
    "t = torch.Tensor(5, 5)\n",
    "t.normal_() # Tensor.normal_(mean=0, std=1) "
   ]
  },
  {
   "cell_type": "markdown",
   "metadata": {},
   "source": [
    "It creates a standard normal distribution with mean =0 and std=1"
   ]
  },
  {
   "cell_type": "code",
   "execution_count": 28,
   "metadata": {},
   "outputs": [
    {
     "data": {
      "text/plain": [
       "tensor([4.3953, 4.2240, 4.4564, 5.0500, 3.8047])"
      ]
     },
     "execution_count": 28,
     "metadata": {},
     "output_type": "execute_result"
    }
   ],
   "source": [
    "# Example 2 - working\n",
    "#Let's create a matrix Z (a 1d tensor) of dimension 1 × 5\n",
    "torch.empty(5).normal_(mean=4,std=0.5) # random normal distribution in pytorch and mean and std are 4, 0.5 respectively"
   ]
  },
  {
   "cell_type": "markdown",
   "metadata": {},
   "source": [
    "It create a matrix Z (a 1d tensor) of dimension 1 × 5, filled with random elements samples from the normal distribution parameterized by mean = 4 and std = 0.5."
   ]
  },
  {
   "cell_type": "code",
   "execution_count": null,
   "metadata": {},
   "outputs": [],
   "source": []
  },
  {
   "cell_type": "markdown",
   "metadata": {},
   "source": []
  },
  {
   "cell_type": "markdown",
   "metadata": {},
   "source": [
    "It helps to create standard normal distribution"
   ]
  },
  {
   "cell_type": "markdown",
   "metadata": {},
   "source": [
    "## Function 5 - torch.norm(input, p='fro', dim=None, keepdim=False, out=None, dtype=None)\n",
    " \n",
    "It returns the matrix norm or vector norm of a given tensor.\n",
    "\n",
    "Parameters:\n",
    "\n",
    "    input (Tensor) – the input tensor\n",
    "\n",
    "    p (int, float, inf, -inf, 'fro', 'nuc', optional) -the order of norm. Default: 'fro'.\n",
    "    \n",
    "    dim (int, 2-tuple of python:ints, 2-list of python:ints, optional) – If it is an int, vector norm will be calculated, if it is 2-tuple of ints, matrix norm will be calculated. If the value is None, matrix norm will be calculated when the input tensor only has two dimensions, vector norm will be calculated when the input tensor only has one dimension. If the input tensor has more than two dimensions, the vector norm will be applied to last dimension.\n",
    "\n",
    "     keepdim (bool, optional) – whether the output tensors have dim retained or not. \n",
    "\n",
    "     out (Tensor, optional) – the output tensor. Ignored if dim = None and out = None.\n",
    "\n",
    "     dtype (torch.dtype, optional) – the desired data type of returned tensor. \n",
    "    "
   ]
  },
  {
   "cell_type": "code",
   "execution_count": 14,
   "metadata": {},
   "outputs": [
    {
     "data": {
      "text/plain": [
       "tensor([1.4142, 2.2361, 5.0000])"
      ]
     },
     "execution_count": 14,
     "metadata": {},
     "output_type": "execute_result"
    }
   ],
   "source": [
    "# Example 1 - working\n",
    "k = torch.tensor([[ 1, 2, 3],[-1, 1, 4]] , dtype= torch.float)\n",
    "torch.norm(k, dim=0)"
   ]
  },
  {
   "cell_type": "markdown",
   "metadata": {},
   "source": [
    "It returns vector norm of a given tensor where dim =0"
   ]
  },
  {
   "cell_type": "code",
   "execution_count": 20,
   "metadata": {},
   "outputs": [
    {
     "data": {
      "text/plain": [
       "tensor([3.7417, 4.2426])"
      ]
     },
     "execution_count": 20,
     "metadata": {},
     "output_type": "execute_result"
    }
   ],
   "source": [
    "# Example 2 - working\n",
    "torch.norm(k, dim=1)"
   ]
  },
  {
   "cell_type": "markdown",
   "metadata": {},
   "source": [
    "It returns vector norm of a given tensor where dim =1"
   ]
  },
  {
   "cell_type": "code",
   "execution_count": 24,
   "metadata": {},
   "outputs": [
    {
     "data": {
      "text/plain": [
       "tensor([6., 6.])"
      ]
     },
     "execution_count": 24,
     "metadata": {},
     "output_type": "execute_result"
    }
   ],
   "source": [
    "# Example 3  \n",
    "torch.norm(k, p=1, dim=1)"
   ]
  },
  {
   "cell_type": "markdown",
   "metadata": {},
   "source": [
    "It returns vector norm of a given tensor where dim =1 and p=1"
   ]
  },
  {
   "cell_type": "markdown",
   "metadata": {},
   "source": [
    "Matrix norms are indirectly used in any applications that require matrix functions and/or matrix series."
   ]
  },
  {
   "cell_type": "markdown",
   "metadata": {},
   "source": [
    "## Conclusion\n",
    "\n",
    "These are the 5 statistical PyTorch function that I find interesting as discussed above and link to the medium post: "
   ]
  },
  {
   "cell_type": "markdown",
   "metadata": {},
   "source": [
    "## Reference Links\n",
    "Provide links to your references and other interesting articles about tensors\n",
    "* Official documentation for `torch.Tensor`: https://pytorch.org/docs/stable/tensors.html\n",
    "* https://stackoverflow.com/"
   ]
  },
  {
   "cell_type": "code",
   "execution_count": 17,
   "metadata": {},
   "outputs": [],
   "source": [
    "!pip install jovian --upgrade --quiet"
   ]
  },
  {
   "cell_type": "code",
   "execution_count": 18,
   "metadata": {},
   "outputs": [],
   "source": [
    "import jovian"
   ]
  },
  {
   "cell_type": "code",
   "execution_count": null,
   "metadata": {},
   "outputs": [
    {
     "data": {
      "application/javascript": [
       "window.require && require([\"base/js/namespace\"],function(Jupyter){Jupyter.notebook.save_checkpoint()})"
      ],
      "text/plain": [
       "<IPython.core.display.Javascript object>"
      ]
     },
     "metadata": {},
     "output_type": "display_data"
    },
    {
     "name": "stdout",
     "output_type": "stream",
     "text": [
      "[jovian] Attempting to save notebook..\u001b[0m\n"
     ]
    }
   ],
   "source": [
    "jovian.commit()"
   ]
  },
  {
   "cell_type": "code",
   "execution_count": null,
   "metadata": {},
   "outputs": [],
   "source": []
  }
 ],
 "metadata": {
  "kernelspec": {
   "display_name": "Python 3",
   "language": "python",
   "name": "python3"
  },
  "language_info": {
   "codemirror_mode": {
    "name": "ipython",
    "version": 3
   },
   "file_extension": ".py",
   "mimetype": "text/x-python",
   "name": "python",
   "nbconvert_exporter": "python",
   "pygments_lexer": "ipython3",
   "version": "3.7.6"
  }
 },
 "nbformat": 4,
 "nbformat_minor": 4
}
